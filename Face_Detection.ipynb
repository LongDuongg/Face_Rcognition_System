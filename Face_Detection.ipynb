{
 "cells": [
  {
   "cell_type": "code",
   "execution_count": 1,
   "metadata": {},
   "outputs": [
    {
     "name": "stdout",
     "output_type": "stream",
     "text": [
      "WARNING:tensorflow:From C:\\Users\\Admin\\AppData\\Roaming\\Python\\Python310\\site-packages\\keras\\src\\losses.py:2976: The name tf.losses.sparse_softmax_cross_entropy is deprecated. Please use tf.compat.v1.losses.sparse_softmax_cross_entropy instead.\n",
      "\n"
     ]
    }
   ],
   "source": [
    "import cv2\n",
    "import urllib.request \n",
    "import matplotlib.pyplot as plt \n",
    "import numpy as np \n",
    "import tensorflow as tf \n",
    "import albumentations as alb \n",
    "import json\n",
    "import os"
   ]
  },
  {
   "cell_type": "markdown",
   "metadata": {},
   "source": [
    "Rename file\n"
   ]
  },
  {
   "cell_type": "code",
   "execution_count": null,
   "metadata": {},
   "outputs": [],
   "source": [
    "count = 198\n",
    "for file in os.listdir(os.path.join('Data_Raw', 'Long')) :\n",
    "  # print(file)\n",
    "  \n",
    "  file_name = os.path.join('Data_Raw', 'Long', file)\n",
    "  \n",
    "  new_file = file.split('roi')[0] + f'roi{count}.jpg'\n",
    "  \n",
    "  dest = os.path.join('Data_Raw', 'Long', new_file)\n",
    "  \n",
    "  os.rename(file_name, dest)\n",
    "  count += 1"
   ]
  },
  {
   "cell_type": "markdown",
   "metadata": {},
   "source": [
    "Apply Image Augmentation on Images and Labels using Albumentations\n"
   ]
  },
  {
   "cell_type": "code",
   "execution_count": 3,
   "metadata": {},
   "outputs": [],
   "source": [
    "# Setup Albumentations Transform \n",
    "augmentor = alb.Compose([\n",
    "  alb.RandomCrop(width=450, height=450),\n",
    "  alb.HorizontalFlip(p=0.5),\n",
    "  alb.VerticalFlip(p=0.5),\n",
    "  alb.RandomBrightnessContrast(p=0.2),\n",
    "  alb.RandomGamma(p=0.2),\n",
    "  alb.RGBShift(p=0.2),],\n",
    "  bbox_params=alb.BboxParams(format='albumentations', label_fields=['class_labels'])\n",
    ")"
   ]
  },
  {
   "cell_type": "code",
   "execution_count": 21,
   "metadata": {},
   "outputs": [],
   "source": [
    "image = cv2.imread(os.path.join('Data_Train', 'Long', 'z51985795_roi4.jpg'))\n",
    "# image"
   ]
  },
  {
   "cell_type": "code",
   "execution_count": 5,
   "metadata": {},
   "outputs": [
    {
     "name": "stdout",
     "output_type": "stream",
     "text": [
      "{'points': [[262.55952380952385, 176.9047619047619], [406.6071428571429, 376.30952380952385]], 'fileName': 'z51985795_roi4.jpg'}\n"
     ]
    }
   ],
   "source": [
    "# get coordinate from label file\n",
    "with open(os.path.join('Data_Train', 'Long_Label', 'z51985795_roi4.json'), 'rb') as file :\n",
    "  label = json.load(file)\n",
    "print({\n",
    "  \"points\" : label[\"shapes\"][0]['points'],\n",
    "  \"fileName\" : label[\"imagePath\"].split('\\\\')[2]\n",
    "})  \n",
    "# coordinate = [0,0,0,0]\n",
    "# coordinate[0] = label['shapes'][0]['points'][0][0]\n",
    "# coordinate[1] = label['shapes'][0]['points'][0][1]\n",
    "# coordinate[2] = label['shapes'][0]['points'][1][0]\n",
    "# coordinate[3] = label['shapes'][0]['points'][1][1]\n",
    "\n",
    "# Normalization\n",
    "# coordinate = list(np.divide(coordinate, [640,480,640,480]))\n",
    "# print(coordinate)"
   ]
  },
  {
   "cell_type": "code",
   "execution_count": 24,
   "metadata": {},
   "outputs": [
    {
     "name": "stdout",
     "output_type": "stream",
     "text": [
      "Long\n"
     ]
    }
   ],
   "source": [
    "# Apply augmentation and view results\n",
    "augmented = augmentor(image=image, bboxes=[coordinate], class_labels=['Long'])\n",
    "# print(augmented['image'])\n",
    "print(augmented['class_labels'][0])\n",
    "# print(augmented['points'])"
   ]
  },
  {
   "cell_type": "markdown",
   "metadata": {},
   "source": [
    "Build and Run Augmentation Pipeline\n"
   ]
  },
  {
   "cell_type": "code",
   "execution_count": 5,
   "metadata": {},
   "outputs": [],
   "source": [
    "# Run Augmentation Pipeline\n",
    "for folder in ['Data_Train', 'Data_Test', 'Data_Validation'] :\n",
    "  for image_file in os.listdir(os.path.join(folder, 'Quoc')) :\n",
    "    image = cv2.imread(os.path.join(folder, 'Quoc', image_file))\n",
    "    \n",
    "    coords = [0,0,0.0001,0.00001]\n",
    "    label_path = os.path.join(folder, 'Quoc_Label', f'{image_file.split(\".\")[0]}.json')\n",
    "    # print(label_path)\n",
    "    if os.path.exists(label_path) :\n",
    "      with open (label_path, 'rb') as file :\n",
    "        label = json.load(file)\n",
    "        # print(label)\n",
    "      coords[0] = label['shapes'][0]['points'][0][0]\n",
    "      coords[1] = label['shapes'][0]['points'][0][1]\n",
    "      coords[2] = label['shapes'][0]['points'][1][0]\n",
    "      coords[3] = label['shapes'][0]['points'][1][1]\n",
    "      \n",
    "      coords = list(np.divide(coords, [640,480,640,480]))\n",
    "      \n",
    "    try:\n",
    "      for x in range(10) :\n",
    "        # print(x)\n",
    "        augmented = augmentor(image=image, bboxes=[coords], class_labels=['Quoc'])\n",
    "        cv2.imwrite(os.path.join('Data_Augmented', folder, 'Quoc', f'{image_file.split(\".\")[0]}.{x}.jpg'), augmented['image'])\n",
    "\n",
    "        annotation = {\n",
    "          'image_file': '',\n",
    "          'bbox': '',\n",
    "          'class': '',\n",
    "          'label': ''\n",
    "        }\n",
    "        annotation['image_file'] = image_file\n",
    "        \n",
    "        if os.path.exists(label_path) :\n",
    "          if len(augmented['bboxes']) == 0 :\n",
    "            annotation['bbox'] = [0,0,0,0]\n",
    "            annotation['class'] = 0\n",
    "          else :\n",
    "            annotation['bbox'] = augmented['bboxes'][0]\n",
    "            annotation['class'] = 1\n",
    "            annotation['label'] = augmented['class_labels'][0]\n",
    "        else :\n",
    "          annotation['bbox'] = [0,0,0,0]\n",
    "          annotation['class'] = 0\n",
    "          \n",
    "        with open(os.path.join('Data_Augmented', folder, 'quoc_label', f'{image_file.split(\".\")[0]}.{x}.json'), 'w') as f :\n",
    "          json.dump(annotation, f)\n",
    "    except Exception as e :\n",
    "      print(e)"
   ]
  },
  {
   "cell_type": "markdown",
   "metadata": {},
   "source": [
    "Load Augmented Images to Tensorflow Dataset\n"
   ]
  },
  {
   "cell_type": "code",
   "execution_count": 3,
   "metadata": {},
   "outputs": [],
   "source": [
    "def load_image(file_path)  :\n",
    "  byte_image = tf.io.read_file(file_path)\n",
    "  image = tf.io.decode_jpeg(byte_image)\n",
    "  return image"
   ]
  },
  {
   "cell_type": "code",
   "execution_count": 16,
   "metadata": {},
   "outputs": [],
   "source": [
    "def load_images_from_folder(folder):\n",
    "  images = []\n",
    "  for filename in os.listdir(folder):\n",
    "    if filename.endswith(\".jpg\"):\n",
    "      img = cv2.imread(os.path.join(folder, filename))\n",
    "      if img is not None:\n",
    "        images.append(img)\n",
    "  return images"
   ]
  },
  {
   "cell_type": "code",
   "execution_count": 42,
   "metadata": {},
   "outputs": [
    {
     "data": {
      "text/plain": [
       "2170"
      ]
     },
     "execution_count": 42,
     "metadata": {},
     "output_type": "execute_result"
    }
   ],
   "source": [
    "train_images = tf.data.Dataset.list_files('Data_Augmented\\\\Data_Train\\\\quoc\\\\*.jpg', shuffle=False)\n",
    "train_images = train_images.map(load_image)\n",
    "train_images = train_images.map(lambda x : tf.image.resize(x, (120,120)))\n",
    "train_images = train_images.map(lambda x : x/255) \n",
    "\n",
    "len(train_images)"
   ]
  },
  {
   "cell_type": "code",
   "execution_count": 43,
   "metadata": {},
   "outputs": [
    {
     "data": {
      "text/plain": [
       "570"
      ]
     },
     "execution_count": 43,
     "metadata": {},
     "output_type": "execute_result"
    }
   ],
   "source": [
    "test_images = tf.data.Dataset.list_files('Data_Augmented\\\\Data_Test\\\\quoc\\\\*.jpg', shuffle=False)\n",
    "test_images = test_images.map(load_image)\n",
    "test_images = test_images.map(lambda x : tf.image.resize(x, (120,120)))\n",
    "test_images = test_images.map(lambda x : x/255)\n",
    "# test_images.as_numpy_iterator().next()\n",
    "len(test_images)"
   ]
  },
  {
   "cell_type": "code",
   "execution_count": 44,
   "metadata": {},
   "outputs": [
    {
     "data": {
      "text/plain": [
       "570"
      ]
     },
     "execution_count": 44,
     "metadata": {},
     "output_type": "execute_result"
    }
   ],
   "source": [
    "val_images = tf.data.Dataset.list_files('Data_Augmented\\\\Data_Validation\\\\quoc\\\\*.jpg', shuffle=False)\n",
    "val_images = val_images.map(load_image)\n",
    "val_images = val_images.map(lambda x : tf.image.resize(x, (120,120)))\n",
    "val_images = val_images.map(lambda x : x/255)\n",
    "# val_images.as_numpy_iterator().next()\n",
    "len(val_images)"
   ]
  },
  {
   "cell_type": "markdown",
   "metadata": {},
   "source": [
    "Prepare Labels\n"
   ]
  },
  {
   "cell_type": "code",
   "execution_count": 7,
   "metadata": {},
   "outputs": [],
   "source": [
    "def load_label(label_path) :\n",
    "  with open(label_path.numpy(), 'rb') as file :\n",
    "    label = json.load(file)\n",
    "  return [label['class']], label['bbox'], label['label']"
   ]
  },
  {
   "cell_type": "code",
   "execution_count": 45,
   "metadata": {},
   "outputs": [
    {
     "data": {
      "text/plain": [
       "2170"
      ]
     },
     "execution_count": 45,
     "metadata": {},
     "output_type": "execute_result"
    }
   ],
   "source": [
    "train_labels = tf.data.Dataset.list_files('Data_Augmented\\\\Data_Train\\\\quoc_label\\\\*.json', shuffle=False)\n",
    "train_labels = train_labels.map(lambda x : tf.py_function(load_label, [x], [tf.uint8, tf.float16, tf.string]))\n",
    "# train_labels.as_numpy_iterator().next()\n",
    "len(train_labels)"
   ]
  },
  {
   "cell_type": "code",
   "execution_count": 46,
   "metadata": {},
   "outputs": [
    {
     "data": {
      "text/plain": [
       "570"
      ]
     },
     "execution_count": 46,
     "metadata": {},
     "output_type": "execute_result"
    }
   ],
   "source": [
    "test_labels = tf.data.Dataset.list_files('Data_Augmented\\\\Data_Test\\\\quoc_label\\\\*.json', shuffle=False)\n",
    "test_labels = test_labels.map(lambda x : tf.py_function(load_label, [x], [tf.uint8, tf.float16, tf.string]))\n",
    "# test_labels.as_numpy_iterator().next()[2].decode()\n",
    "len(test_labels)"
   ]
  },
  {
   "cell_type": "code",
   "execution_count": 47,
   "metadata": {},
   "outputs": [
    {
     "data": {
      "text/plain": [
       "570"
      ]
     },
     "execution_count": 47,
     "metadata": {},
     "output_type": "execute_result"
    }
   ],
   "source": [
    "val_labels = tf.data.Dataset.list_files('Data_Augmented\\\\Data_Validation\\\\quoc_label\\\\*.json', shuffle=False)\n",
    "val_labels = val_labels.map(lambda x : tf.py_function(load_label, [x], [tf.uint8, tf.float16, tf.string]))\n",
    "# val_labels.as_numpy_iterator().next()\n",
    "len(val_labels)"
   ]
  },
  {
   "cell_type": "markdown",
   "metadata": {},
   "source": [
    "Combine Label and Image Samples\n"
   ]
  },
  {
   "cell_type": "code",
   "execution_count": 48,
   "metadata": {},
   "outputs": [
    {
     "data": {
      "text/plain": [
       "(2170, 2170, 570, 570, 570, 570)"
      ]
     },
     "execution_count": 48,
     "metadata": {},
     "output_type": "execute_result"
    }
   ],
   "source": [
    "#  Check length of partitions\n",
    "len(train_images), len(train_labels), len(test_images), len(test_labels), len(val_images), len(val_labels) "
   ]
  },
  {
   "cell_type": "code",
   "execution_count": 49,
   "metadata": {},
   "outputs": [],
   "source": [
    "train = tf.data.Dataset.zip((train_images, train_labels))\n",
    "train = train.shuffle(5000)\n",
    "train = train.batch(8)\n",
    "train = train.prefetch(4)\n",
    "# train.as_numpy_iterator().next()\n",
    "# train.as_numpy_iterator().next()[1]"
   ]
  },
  {
   "cell_type": "code",
   "execution_count": 50,
   "metadata": {},
   "outputs": [],
   "source": [
    "test = tf.data.Dataset.zip((test_images, test_labels))\n",
    "test = test.shuffle(1300)\n",
    "test = test.batch(8)\n",
    "test = test.prefetch(4)\n",
    "# test.as_numpy_iterator().next()[0].shape\n",
    "# test.as_numpy_iterator().next()[1]"
   ]
  },
  {
   "cell_type": "code",
   "execution_count": 51,
   "metadata": {},
   "outputs": [],
   "source": [
    "val = tf.data.Dataset.zip((val_images, val_labels))\n",
    "val = val.shuffle(1300)\n",
    "val = val.batch(8)\n",
    "val = val.prefetch(4)\n",
    "# val.as_numpy_iterator().next()[0].shape\n",
    "# val.as_numpy_iterator().next()[1]"
   ]
  },
  {
   "cell_type": "markdown",
   "metadata": {},
   "source": [
    "View Images and Annotations\n"
   ]
  },
  {
   "cell_type": "code",
   "execution_count": null,
   "metadata": {},
   "outputs": [],
   "source": [
    "data_samples = train.as_numpy_iterator()\n",
    "res = data_samples.next()\n",
    "\n",
    "# for idx in range(4) :\n",
    "# print(res[1][1][1])\n",
    "\n",
    "fig, ax = plt.subplots(ncols = 4, figsize=(20, 20))\n",
    "for idx in range(4) :\n",
    "  image_sample = np.array(res[0][idx])\n",
    "  bbox_sample = res[1][1][idx]\n",
    "  \n",
    "  cv2.rectangle(\n",
    "    image_sample,\n",
    "    tuple(np.multiply(bbox_sample[:2], [450,450]).astype(int)),\n",
    "    tuple(np.multiply(bbox_sample[2:], [450,450]).astype(int)),\n",
    "    (255,0,0),\n",
    "    2 \n",
    "  )\n",
    "  \n",
    "  ax[idx].imshow(image_sample)"
   ]
  },
  {
   "cell_type": "markdown",
   "metadata": {},
   "source": [
    "Build Deep Learning using the Functional API\n"
   ]
  },
  {
   "cell_type": "code",
   "execution_count": 2,
   "metadata": {},
   "outputs": [],
   "source": [
    "# Import Layers and Base Network\n",
    "from tensorflow import keras\n",
    "from keras.models import Model, load_model\n",
    "from keras.layers import Input, Conv2D, Dense, GlobalMaxPooling2D\n",
    "from keras.applications import VGG16\n"
   ]
  },
  {
   "cell_type": "code",
   "execution_count": 16,
   "metadata": {},
   "outputs": [
    {
     "name": "stdout",
     "output_type": "stream",
     "text": [
      "WARNING:tensorflow:From C:\\Users\\Admin\\AppData\\Roaming\\Python\\Python310\\site-packages\\keras\\src\\backend.py:1398: The name tf.executing_eagerly_outside_functions is deprecated. Please use tf.compat.v1.executing_eagerly_outside_functions instead.\n",
      "\n",
      "WARNING:tensorflow:From C:\\Users\\Admin\\AppData\\Roaming\\Python\\Python310\\site-packages\\keras\\src\\layers\\pooling\\max_pooling2d.py:161: The name tf.nn.max_pool is deprecated. Please use tf.nn.max_pool2d instead.\n",
      "\n"
     ]
    }
   ],
   "source": [
    "# Download VGG16\n",
    "vgg = VGG16(include_top = False)\n",
    "# vgg.summary()"
   ]
  },
  {
   "cell_type": "code",
   "execution_count": 17,
   "metadata": {},
   "outputs": [],
   "source": [
    "# Build instance of Network\n",
    "def build_model() :\n",
    "  input_layer = Input(shape=(120,120,3))\n",
    "  \n",
    "  vgg = VGG16(include_top = False)(input_layer)\n",
    "  \n",
    "  # Classification Model\n",
    "  f1 = GlobalMaxPooling2D()(vgg)\n",
    "  class1 = Dense(2048, activation='relu')(f1)\n",
    "  class2 = Dense(1, activation='sigmoid')(class1)\n",
    "  \n",
    "  #Bounding Box Model\n",
    "  f2 = GlobalMaxPooling2D()(vgg)\n",
    "  regress1 = Dense(2048, activation='relu')(f2)\n",
    "  regress2 = Dense(4, activation='sigmoid')(regress1)\n",
    "  \n",
    "  return Model(inputs=input_layer, outputs=[class2, regress2])"
   ]
  },
  {
   "cell_type": "code",
   "execution_count": 18,
   "metadata": {},
   "outputs": [],
   "source": [
    "# Test out Neural Network\n",
    "face_tracker = build_model()\n",
    "# face_tracker.summary()"
   ]
  },
  {
   "cell_type": "code",
   "execution_count": null,
   "metadata": {},
   "outputs": [],
   "source": [
    "Xtrain, ytrain = train.as_numpy_iterator().next()\n",
    "ytrain"
   ]
  },
  {
   "cell_type": "code",
   "execution_count": null,
   "metadata": {},
   "outputs": [],
   "source": [
    "classes, coords = face_tracker.predict(Xtrain)\n"
   ]
  },
  {
   "cell_type": "markdown",
   "metadata": {},
   "source": [
    "Define Losses and Optimizers\n"
   ]
  },
  {
   "cell_type": "code",
   "execution_count": 19,
   "metadata": {},
   "outputs": [],
   "source": [
    "# Define Optimizer and Learning rate decay\n",
    "batches_per_epoch = len(train)\n",
    "learning_rate_decay = (1./0.75 - 1)/batches_per_epoch"
   ]
  },
  {
   "cell_type": "code",
   "execution_count": 20,
   "metadata": {},
   "outputs": [],
   "source": [
    "opt = tf.keras.optimizers.legacy.Adam(learning_rate=0.0001, decay=learning_rate_decay)"
   ]
  },
  {
   "cell_type": "code",
   "execution_count": 21,
   "metadata": {},
   "outputs": [],
   "source": [
    "# Create Localization Loss and Classification Loss\n",
    "def localization_loss(y_true, yhat) :\n",
    "  delta_coord = tf.reduce_sum(tf.square(y_true[:,:2] - yhat[:,:2]))\n",
    "  \n",
    "  height_true = y_true[:,3] - y_true[:,1]\n",
    "  width_true = y_true[:,2] - y_true[:,0]\n",
    "  \n",
    "  height_predicted = yhat[:,3] - yhat[:,1]\n",
    "  width_predicted = yhat[:,2] - yhat[:,0]\n",
    "  \n",
    "  delta_size = tf.reduce_sum(tf.square(width_true - width_predicted) + tf.square(height_true - height_predicted))\n",
    "  \n",
    "  return delta_coord + delta_size\n",
    "\n",
    "class_loss = tf.keras.losses.BinaryCrossentropy()\n",
    "regress_loss = localization_loss"
   ]
  },
  {
   "cell_type": "code",
   "execution_count": 55,
   "metadata": {},
   "outputs": [
    {
     "data": {
      "text/plain": [
       "(<tf.Tensor: shape=(), dtype=float32, numpy=0.6626317>,\n",
       " <tf.Tensor: shape=(), dtype=float32, numpy=4.048875>)"
      ]
     },
     "execution_count": 55,
     "metadata": {},
     "output_type": "execute_result"
    }
   ],
   "source": [
    "# Test out Loss Metrics\n",
    "class_loss(ytrain[0], classes), regress_loss(ytrain[1], coords)"
   ]
  },
  {
   "cell_type": "markdown",
   "metadata": {},
   "source": [
    "Train Neural Network\n"
   ]
  },
  {
   "cell_type": "code",
   "execution_count": 22,
   "metadata": {},
   "outputs": [],
   "source": [
    "# Create Custom Model Class\n",
    "class FaceTracker(Model) :\n",
    "  def __init__(self, model, **kwargs):\n",
    "    super().__init__(**kwargs)\n",
    "    self.model = model\n",
    "    \n",
    "  def compile(self, opt, classloss, localizationloss, **kwargs) :\n",
    "    super().compile(**kwargs)\n",
    "    self.opt = opt\n",
    "    self.classloss = classloss\n",
    "    self.localizationloss = localizationloss\n",
    "    \n",
    "  def train_step(self, batch, **kwargs) :\n",
    "    Xtrain, ytrain = batch\n",
    "    \n",
    "    with tf.GradientTape() as tape :\n",
    "      classes, coords = self.model(Xtrain, training=True)\n",
    "      \n",
    "      batch_classloss = self.classloss(ytrain[0], classes)\n",
    "      batch_localizationloss = self.localizationloss(tf.cast(ytrain[1], tf.float32), coords)\n",
    "      \n",
    "      total_loss = batch_localizationloss + 0.5 * batch_classloss\n",
    "      \n",
    "      grad = tape.gradient(total_loss, self.model.trainable_variables)\n",
    "    \n",
    "    opt.apply_gradients(zip(grad, self.model.trainable_variables))\n",
    "    \n",
    "    return {\n",
    "      \"total_loss\" : total_loss,\n",
    "      \"class_loss\" : batch_classloss,\n",
    "      \"regress_loss\" : batch_localizationloss\n",
    "    }\n",
    "    \n",
    "  def test_step(self, batch, **kwargs) :\n",
    "    Xtest, ytest = batch\n",
    "    \n",
    "    classes, coords = self.model(Xtest, training=False)\n",
    "    \n",
    "    batch_classloss = self.classloss(ytest[0], classes)\n",
    "    batch_localizationloss = self.localizationloss(tf.cast(ytest[1], tf.float32), coords)\n",
    "      \n",
    "    total_loss = batch_localizationloss + 0.5 * batch_classloss\n",
    "    \n",
    "    return {\n",
    "      \"total_loss\" : total_loss,\n",
    "      \"class_loss\" : batch_classloss,\n",
    "      \"regress_loss\" : batch_localizationloss\n",
    "    }\n",
    "    \n",
    "  def call(self, X, **kwargs) :\n",
    "    return self.model(X, **kwargs)\n",
    "  "
   ]
  },
  {
   "cell_type": "code",
   "execution_count": 23,
   "metadata": {},
   "outputs": [],
   "source": [
    "model = FaceTracker(face_tracker)"
   ]
  },
  {
   "cell_type": "code",
   "execution_count": 24,
   "metadata": {},
   "outputs": [
    {
     "name": "stdout",
     "output_type": "stream",
     "text": [
      "WARNING:tensorflow:From C:\\Users\\Admin\\AppData\\Roaming\\Python\\Python310\\site-packages\\keras\\src\\optimizers\\__init__.py:309: The name tf.train.Optimizer is deprecated. Please use tf.compat.v1.train.Optimizer instead.\n",
      "\n"
     ]
    }
   ],
   "source": [
    "model.compile(opt, class_loss, regress_loss)"
   ]
  },
  {
   "cell_type": "code",
   "execution_count": 52,
   "metadata": {},
   "outputs": [
    {
     "name": "stdout",
     "output_type": "stream",
     "text": [
      "Epoch 1/30\n",
      "272/272 [==============================] - 1468s 5s/step - total_loss: 0.0934 - class_loss: 0.0463 - regress_loss: 0.0702 - val_total_loss: 0.0060 - val_class_loss: 4.7982e-06 - val_regress_loss: 0.0060\n",
      "Epoch 2/30\n",
      "272/272 [==============================] - 1296s 5s/step - total_loss: 0.0349 - class_loss: 0.0129 - regress_loss: 0.0284 - val_total_loss: 0.0024 - val_class_loss: 0.0000e+00 - val_regress_loss: 0.0024\n",
      "Epoch 3/30\n",
      "272/272 [==============================] - 1041s 4s/step - total_loss: 0.0198 - class_loss: 0.0080 - regress_loss: 0.0158 - val_total_loss: 0.0042 - val_class_loss: 0.0017 - val_regress_loss: 0.0033\n",
      "Epoch 4/30\n",
      "272/272 [==============================] - 926s 3s/step - total_loss: 0.0135 - class_loss: 0.0051 - regress_loss: 0.0109 - val_total_loss: 0.0013 - val_class_loss: 1.8627e-05 - val_regress_loss: 0.0012\n",
      "Epoch 5/30\n",
      "272/272 [==============================] - 1006s 4s/step - total_loss: 0.0113 - class_loss: 0.0045 - regress_loss: 0.0091 - val_total_loss: 0.0062 - val_class_loss: 0.0016 - val_regress_loss: 0.0054\n",
      "Epoch 6/30\n",
      "272/272 [==============================] - 928s 3s/step - total_loss: 0.0096 - class_loss: 0.0035 - regress_loss: 0.0079 - val_total_loss: 0.0316 - val_class_loss: 0.0378 - val_regress_loss: 0.0127\n",
      "Epoch 7/30\n",
      "272/272 [==============================] - 1009s 4s/step - total_loss: 0.0074 - class_loss: 0.0027 - regress_loss: 0.0061 - val_total_loss: 0.0013 - val_class_loss: 1.2219e-06 - val_regress_loss: 0.0013\n",
      "Epoch 8/30\n",
      "272/272 [==============================] - 673s 2s/step - total_loss: 0.0062 - class_loss: 0.0021 - regress_loss: 0.0052 - val_total_loss: 0.0011 - val_class_loss: 2.3842e-06 - val_regress_loss: 0.0011\n",
      "Epoch 9/30\n",
      "272/272 [==============================] - 675s 2s/step - total_loss: 0.0055 - class_loss: 0.0019 - regress_loss: 0.0045 - val_total_loss: 8.6268e-04 - val_class_loss: 1.0729e-06 - val_regress_loss: 8.6214e-04\n",
      "Epoch 10/30\n",
      "272/272 [==============================] - 665s 2s/step - total_loss: 0.0051 - class_loss: 0.0017 - regress_loss: 0.0043 - val_total_loss: 0.0014 - val_class_loss: 0.0000e+00 - val_regress_loss: 0.0014\n",
      "Epoch 11/30\n",
      "272/272 [==============================] - 668s 2s/step - total_loss: 0.0045 - class_loss: 0.0016 - regress_loss: 0.0037 - val_total_loss: 0.0011 - val_class_loss: 9.7898e-04 - val_regress_loss: 5.7456e-04\n",
      "Epoch 12/30\n",
      "272/272 [==============================] - 675s 2s/step - total_loss: 0.0041 - class_loss: 0.0013 - regress_loss: 0.0034 - val_total_loss: 6.9787e-04 - val_class_loss: 3.0398e-06 - val_regress_loss: 6.9635e-04\n",
      "Epoch 13/30\n",
      "272/272 [==============================] - 679s 2s/step - total_loss: 0.0039 - class_loss: 0.0013 - regress_loss: 0.0033 - val_total_loss: 0.0027 - val_class_loss: 2.9654e-05 - val_regress_loss: 0.0026\n",
      "Epoch 14/30\n",
      "272/272 [==============================] - 2850s 10s/step - total_loss: 0.0036 - class_loss: 0.0011 - regress_loss: 0.0030 - val_total_loss: 0.0030 - val_class_loss: 0.0000e+00 - val_regress_loss: 0.0030\n",
      "Epoch 15/30\n",
      "272/272 [==============================] - 997s 4s/step - total_loss: 0.0033 - class_loss: 8.7366e-04 - regress_loss: 0.0029 - val_total_loss: 4.0624e-04 - val_class_loss: 0.0000e+00 - val_regress_loss: 4.0624e-04\n",
      "Epoch 16/30\n",
      "272/272 [==============================] - 3482s 13s/step - total_loss: 0.0030 - class_loss: 9.0195e-04 - regress_loss: 0.0026 - val_total_loss: 0.0055 - val_class_loss: 1.1921e-07 - val_regress_loss: 0.0055\n",
      "Epoch 17/30\n",
      "272/272 [==============================] - 916s 3s/step - total_loss: 0.0027 - class_loss: 6.7902e-04 - regress_loss: 0.0024 - val_total_loss: 0.0034 - val_class_loss: 0.0000e+00 - val_regress_loss: 0.0034\n",
      "Epoch 18/30\n",
      "272/272 [==============================] - 975s 4s/step - total_loss: 0.0026 - class_loss: 6.1503e-04 - regress_loss: 0.0023 - val_total_loss: 0.0079 - val_class_loss: 7.3117e-04 - val_regress_loss: 0.0075\n",
      "Epoch 19/30\n",
      "272/272 [==============================] - 742s 3s/step - total_loss: 0.0022 - class_loss: 4.5733e-04 - regress_loss: 0.0020 - val_total_loss: 0.0026 - val_class_loss: 0.0029 - val_regress_loss: 0.0011\n",
      "Epoch 20/30\n",
      "272/272 [==============================] - 822s 3s/step - total_loss: 0.0022 - class_loss: 3.5734e-04 - regress_loss: 0.0020 - val_total_loss: 0.0015 - val_class_loss: 0.0000e+00 - val_regress_loss: 0.0015\n",
      "Epoch 21/30\n",
      "272/272 [==============================] - 976s 4s/step - total_loss: 0.0020 - class_loss: 2.8282e-04 - regress_loss: 0.0018 - val_total_loss: 0.0425 - val_class_loss: 0.0053 - val_regress_loss: 0.0398\n",
      "Epoch 22/30\n",
      "272/272 [==============================] - 763s 3s/step - total_loss: 0.0018 - class_loss: 3.7265e-04 - regress_loss: 0.0017 - val_total_loss: 0.0037 - val_class_loss: 9.2387e-07 - val_regress_loss: 0.0037\n",
      "Epoch 23/30\n",
      "272/272 [==============================] - 648s 2s/step - total_loss: 0.0031 - class_loss: 0.0016 - regress_loss: 0.0023 - val_total_loss: 0.0043 - val_class_loss: 0.0000e+00 - val_regress_loss: 0.0043\n",
      "Epoch 24/30\n",
      "272/272 [==============================] - 807s 3s/step - total_loss: 0.0022 - class_loss: 5.9689e-04 - regress_loss: 0.0019 - val_total_loss: 0.0015 - val_class_loss: 1.4901e-07 - val_regress_loss: 0.0015\n",
      "Epoch 25/30\n",
      "272/272 [==============================] - 938s 3s/step - total_loss: 0.0015 - class_loss: 2.5566e-04 - regress_loss: 0.0014 - val_total_loss: 7.6606e-04 - val_class_loss: 8.9407e-08 - val_regress_loss: 7.6602e-04\n",
      "Epoch 26/30\n",
      "272/272 [==============================] - 877s 3s/step - total_loss: 0.0013 - class_loss: 1.8271e-04 - regress_loss: 0.0013 - val_total_loss: 8.5321e-04 - val_class_loss: 5.3079e-04 - val_regress_loss: 5.8781e-04\n",
      "Epoch 27/30\n",
      "272/272 [==============================] - 860s 3s/step - total_loss: 0.0013 - class_loss: 1.4768e-04 - regress_loss: 0.0012 - val_total_loss: 0.0013 - val_class_loss: 5.9605e-08 - val_regress_loss: 0.0013\n",
      "Epoch 28/30\n",
      "272/272 [==============================] - 866s 3s/step - total_loss: 0.0011 - class_loss: 1.2777e-04 - regress_loss: 0.0011 - val_total_loss: 0.0018 - val_class_loss: 0.0000e+00 - val_regress_loss: 0.0018\n",
      "Epoch 29/30\n",
      "272/272 [==============================] - 877s 3s/step - total_loss: 0.0010 - class_loss: 1.0457e-04 - regress_loss: 9.6934e-04 - val_total_loss: 4.7668e-04 - val_class_loss: 2.3842e-07 - val_regress_loss: 4.7656e-04\n",
      "Epoch 30/30\n",
      "272/272 [==============================] - 871s 3s/step - total_loss: 9.9362e-04 - class_loss: 9.0642e-05 - regress_loss: 9.4830e-04 - val_total_loss: 2.6833e-04 - val_class_loss: 0.0000e+00 - val_regress_loss: 2.6833e-04\n"
     ]
    }
   ],
   "source": [
    "# Train\n",
    "logdir = 'logs'\n",
    "tensorboard_callback = tf.keras.callbacks.TensorBoard(log_dir=logdir)\n",
    "hist = model.fit(train, epochs = 30, validation_data = val, callbacks = [tensorboard_callback])                                                          "
   ]
  },
  {
   "cell_type": "markdown",
   "metadata": {},
   "source": [
    "Plot performance\n"
   ]
  },
  {
   "cell_type": "code",
   "execution_count": 53,
   "metadata": {},
   "outputs": [
    {
     "data": {
      "image/png": "[encoded data removed]",
      "text/plain": [
       "<Figure size 2000x500 with 3 Axes>"
      ]
     },
     "metadata": {},
     "output_type": "display_data"
    }
   ],
   "source": [
    "fig, ax = plt.subplots(ncols = 3, figsize = (20,5))\n",
    "\n",
    "ax[0].plot(hist.history['total_loss'], color = 'teal', label = 'loss')\n",
    "ax[0].plot(hist.history['val_total_loss'], color = 'orange', label = 'val_loss')\n",
    "ax[0].title.set_text('Loss')\n",
    "ax[0].legend()\n",
    "\n",
    "ax[1].plot(hist.history['class_loss'], color = 'teal', label = 'class_loss')\n",
    "ax[1].plot(hist.history['val_class_loss'], color = 'orange', label = 'val_class_loss')\n",
    "ax[1].title.set_text('Classification Loss')\n",
    "ax[1].legend()\n",
    "\n",
    "ax[2].plot(hist.history['regress_loss'], color = 'teal', label = 'regress_loss')\n",
    "ax[2].plot(hist.history['val_regress_loss'], color = 'orange', label = 'val_regress_loss')\n",
    "ax[2].title.set_text('Regression Loss')\n",
    "ax[2].legend()\n",
    "\n",
    "plt.show()"
   ]
  },
  {
   "cell_type": "markdown",
   "metadata": {},
   "source": [
    "Make Prediction\n"
   ]
  },
  {
   "cell_type": "code",
   "execution_count": null,
   "metadata": {},
   "outputs": [],
   "source": [
    "# Make prediction on Test set\n",
    "test_data = test.as_numpy_iterator()\n",
    "test_sample = test_data.next()\n",
    "\n",
    "yhat = face_tracker.predict(test_sample[0])\n",
    "\n",
    "fig, ax = plt.subplots(ncols = 4, figsize = (20,20))\n",
    "for idx in range(4) :\n",
    "  sample_image = np.array(test_sample[0][idx])\n",
    "  sample_coords = yhat[1][idx]\n",
    "  \n",
    "  if yhat[0][idx] > 0.5 :\n",
    "    cv2.rectangle(\n",
    "      sample_image,\n",
    "      tuple(np.multiply(sample_coords[:2], [120,120]).astype(int)),\n",
    "      tuple(np.multiply(sample_coords[2:], [120,120]).astype(int)),\n",
    "      (255,0,0),\n",
    "      1 \n",
    "    )\n",
    "  ax[idx].imshow(sample_image)"
   ]
  },
  {
   "cell_type": "markdown",
   "metadata": {},
   "source": [
    "Save model"
   ]
  },
  {
   "cell_type": "code",
   "execution_count": 54,
   "metadata": {},
   "outputs": [
    {
     "name": "stdout",
     "output_type": "stream",
     "text": [
      "WARNING:tensorflow:Compiled the loaded model, but the compiled metrics have yet to be built. `model.compile_metrics` will be empty until you train or evaluate the model.\n"
     ]
    }
   ],
   "source": [
    "face_tracker.save('Quoc.h5')"
   ]
  },
  {
   "cell_type": "markdown",
   "metadata": {},
   "source": [
    "Real time detection"
   ]
  },
  {
   "cell_type": "code",
   "execution_count": null,
   "metadata": {},
   "outputs": [],
   "source": [
    "def performFaceDetection(vid) :\n",
    "  facetracker = load_model('Quoc.h5')\n",
    "  \n",
    "  while True :\n",
    "    result, frame = vid.read()\n",
    "    if result is False:\n",
    "      break\n",
    "    frame = frame[50 : 500, 50 : 500,:]\n",
    "    \n",
    "    rgb = cv2.cvtColor(frame, cv2.COLOR_BGR2RGB)\n",
    "    resized = tf.image.resize(rgb, (120,120))\n",
    "    \n",
    "    yhat = facetracker.predict(np.expand_dims(resized/255, 0))\n",
    "    print(yhat)\n",
    "    sample_coords = yhat[1][0]\n",
    "  \n",
    "    if yhat[0] > 0.5 :\n",
    "      # Control the main rectangle\n",
    "      cv2.rectangle(\n",
    "        frame,\n",
    "        tuple(np.multiply(sample_coords[:2], [450,450]).astype(int)),\n",
    "        tuple(np.multiply(sample_coords[2:], [450,450]).astype(int)),\n",
    "        (255,0,0),\n",
    "        2 \n",
    "      )\n",
    "    \n",
    "    cv2.imshow(\"My Face Detection Project\", frame) \n",
    "    if cv2.waitKey(1) & 0xFF == ord(\"q\"):\n",
    "      break\n",
    "    \n",
    "  vid.release()\n",
    "  cv2.destroyAllWindows()\n",
    "  \n",
    "def accessCamera(IP_Stream) :\n",
    "  return cv2.VideoCapture(IP_Stream)\n",
    "\n",
    "# url = 'http://192.168.1.105'\n",
    "video_stream = accessCamera(0)\n",
    "performFaceDetection(video_stream)"
   ]
  }
 ],
 "metadata": {
  "kernelspec": {
   "display_name": "Python 3",
   "language": "python",
   "name": "python3"
  },
  "language_info": {
   "codemirror_mode": {
    "name": "ipython",
    "version": 3
   },
   "file_extension": ".py",
   "mimetype": "text/x-python",
   "name": "python",
   "nbconvert_exporter": "python",
   "pygments_lexer": "ipython3",
   "version": "3.10.3"
  }
 },
 "nbformat": 4,
 "nbformat_minor": 2
}
